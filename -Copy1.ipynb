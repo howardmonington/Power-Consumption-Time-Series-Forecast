{
 "cells": [
  {
   "cell_type": "code",
   "execution_count": 6,
   "metadata": {},
   "outputs": [],
   "source": [
    "import numpy as np\n",
    "import tensorflow as tf\n",
    "import pandas as pd\n",
    "import os\n",
    "from os import walk\n",
    "\n",
    "%matplotlib inline\n",
    "import matplotlib\n",
    "import datetime as dt\n",
    "\n",
    "import IPython\n",
    "import IPython.display\n",
    "import matplotlib as mpl\n",
    "import matplotlib.pyplot as plt\n",
    "import seaborn as sns"
   ]
  },
  {
   "cell_type": "code",
   "execution_count": 7,
   "metadata": {},
   "outputs": [
    {
     "data": {
      "text/plain": [
       "True"
      ]
     },
     "execution_count": 7,
     "metadata": {},
     "output_type": "execute_result"
    }
   ],
   "source": [
    "tf.test.is_gpu_available()"
   ]
  },
  {
   "cell_type": "code",
   "execution_count": 8,
   "metadata": {},
   "outputs": [
    {
     "data": {
      "text/plain": [
       "[PhysicalDevice(name='/physical_device:GPU:0', device_type='GPU')]"
      ]
     },
     "execution_count": 8,
     "metadata": {},
     "output_type": "execute_result"
    }
   ],
   "source": [
    "tf.version.VERSION\n",
    "tf.config.list_physical_devices('GPU')"
   ]
  },
  {
   "cell_type": "markdown",
   "metadata": {},
   "source": [
    "# The Power Consumption Dataset\n",
    "The dataset contains 7 different features such as Global_active_power, Global_reactive_power, and Voltage. These were collected every minute beginning in 2006. This dataset was found on Kaggle."
   ]
  },
  {
   "cell_type": "code",
   "execution_count": 9,
   "metadata": {},
   "outputs": [
    {
     "data": {
      "text/plain": [
       "['household_power_consumption.txt']"
      ]
     },
     "execution_count": 9,
     "metadata": {},
     "output_type": "execute_result"
    }
   ],
   "source": [
    "cwd = os.getcwd()\n",
    "pardir = os.path.dirname(cwd)\n",
    "_, _, filenames = next(walk(pardir))\n",
    "filenames"
   ]
  },
  {
   "cell_type": "code",
   "execution_count": 10,
   "metadata": {},
   "outputs": [],
   "source": [
    "df = pd.read_csv(os.path.join(pardir, filenames[0]), sep=';', parse_dates={'dt':['Date','Time']}, \n",
    "                 low_memory=False, na_values=['nan','?'])"
   ]
  },
  {
   "cell_type": "markdown",
   "metadata": {},
   "source": [
    "## Checking for Null Values\n",
    "It looks like there are about 25,979 null values out of 2,075,259. That's approximately 1% of the data. Also, from below I can see that the null data values are all in the same row."
   ]
  },
  {
   "cell_type": "code",
   "execution_count": 11,
   "metadata": {},
   "outputs": [
    {
     "data": {
      "text/plain": [
       "dt                           0\n",
       "Global_active_power      25979\n",
       "Global_reactive_power    25979\n",
       "Voltage                  25979\n",
       "Global_intensity         25979\n",
       "Sub_metering_1           25979\n",
       "Sub_metering_2           25979\n",
       "Sub_metering_3           25979\n",
       "dtype: int64"
      ]
     },
     "execution_count": 11,
     "metadata": {},
     "output_type": "execute_result"
    }
   ],
   "source": [
    "df.isnull().sum()"
   ]
  },
  {
   "cell_type": "code",
   "execution_count": 12,
   "metadata": {},
   "outputs": [
    {
     "data": {
      "text/html": [
       "<div>\n",
       "<style scoped>\n",
       "    .dataframe tbody tr th:only-of-type {\n",
       "        vertical-align: middle;\n",
       "    }\n",
       "\n",
       "    .dataframe tbody tr th {\n",
       "        vertical-align: top;\n",
       "    }\n",
       "\n",
       "    .dataframe thead th {\n",
       "        text-align: right;\n",
       "    }\n",
       "</style>\n",
       "<table border=\"1\" class=\"dataframe\">\n",
       "  <thead>\n",
       "    <tr style=\"text-align: right;\">\n",
       "      <th></th>\n",
       "      <th>dt</th>\n",
       "      <th>Global_active_power</th>\n",
       "      <th>Global_reactive_power</th>\n",
       "      <th>Voltage</th>\n",
       "      <th>Global_intensity</th>\n",
       "      <th>Sub_metering_1</th>\n",
       "      <th>Sub_metering_2</th>\n",
       "      <th>Sub_metering_3</th>\n",
       "    </tr>\n",
       "  </thead>\n",
       "  <tbody>\n",
       "    <tr>\n",
       "      <th>6839</th>\n",
       "      <td>2006-12-21 11:23:00</td>\n",
       "      <td>NaN</td>\n",
       "      <td>NaN</td>\n",
       "      <td>NaN</td>\n",
       "      <td>NaN</td>\n",
       "      <td>NaN</td>\n",
       "      <td>NaN</td>\n",
       "      <td>NaN</td>\n",
       "    </tr>\n",
       "    <tr>\n",
       "      <th>6840</th>\n",
       "      <td>2006-12-21 11:24:00</td>\n",
       "      <td>NaN</td>\n",
       "      <td>NaN</td>\n",
       "      <td>NaN</td>\n",
       "      <td>NaN</td>\n",
       "      <td>NaN</td>\n",
       "      <td>NaN</td>\n",
       "      <td>NaN</td>\n",
       "    </tr>\n",
       "    <tr>\n",
       "      <th>19724</th>\n",
       "      <td>2006-12-30 10:08:00</td>\n",
       "      <td>NaN</td>\n",
       "      <td>NaN</td>\n",
       "      <td>NaN</td>\n",
       "      <td>NaN</td>\n",
       "      <td>NaN</td>\n",
       "      <td>NaN</td>\n",
       "      <td>NaN</td>\n",
       "    </tr>\n",
       "    <tr>\n",
       "      <th>19725</th>\n",
       "      <td>2006-12-30 10:09:00</td>\n",
       "      <td>NaN</td>\n",
       "      <td>NaN</td>\n",
       "      <td>NaN</td>\n",
       "      <td>NaN</td>\n",
       "      <td>NaN</td>\n",
       "      <td>NaN</td>\n",
       "      <td>NaN</td>\n",
       "    </tr>\n",
       "    <tr>\n",
       "      <th>41832</th>\n",
       "      <td>2007-01-14 18:36:00</td>\n",
       "      <td>NaN</td>\n",
       "      <td>NaN</td>\n",
       "      <td>NaN</td>\n",
       "      <td>NaN</td>\n",
       "      <td>NaN</td>\n",
       "      <td>NaN</td>\n",
       "      <td>NaN</td>\n",
       "    </tr>\n",
       "    <tr>\n",
       "      <th>61909</th>\n",
       "      <td>2007-01-28 17:13:00</td>\n",
       "      <td>NaN</td>\n",
       "      <td>NaN</td>\n",
       "      <td>NaN</td>\n",
       "      <td>NaN</td>\n",
       "      <td>NaN</td>\n",
       "      <td>NaN</td>\n",
       "      <td>NaN</td>\n",
       "    </tr>\n",
       "    <tr>\n",
       "      <th>98254</th>\n",
       "      <td>2007-02-22 22:58:00</td>\n",
       "      <td>NaN</td>\n",
       "      <td>NaN</td>\n",
       "      <td>NaN</td>\n",
       "      <td>NaN</td>\n",
       "      <td>NaN</td>\n",
       "      <td>NaN</td>\n",
       "      <td>NaN</td>\n",
       "    </tr>\n",
       "    <tr>\n",
       "      <th>98255</th>\n",
       "      <td>2007-02-22 22:59:00</td>\n",
       "      <td>NaN</td>\n",
       "      <td>NaN</td>\n",
       "      <td>NaN</td>\n",
       "      <td>NaN</td>\n",
       "      <td>NaN</td>\n",
       "      <td>NaN</td>\n",
       "      <td>NaN</td>\n",
       "    </tr>\n",
       "    <tr>\n",
       "      <th>142588</th>\n",
       "      <td>2007-03-25 17:52:00</td>\n",
       "      <td>NaN</td>\n",
       "      <td>NaN</td>\n",
       "      <td>NaN</td>\n",
       "      <td>NaN</td>\n",
       "      <td>NaN</td>\n",
       "      <td>NaN</td>\n",
       "      <td>NaN</td>\n",
       "    </tr>\n",
       "    <tr>\n",
       "      <th>190497</th>\n",
       "      <td>2007-04-28 00:21:00</td>\n",
       "      <td>NaN</td>\n",
       "      <td>NaN</td>\n",
       "      <td>NaN</td>\n",
       "      <td>NaN</td>\n",
       "      <td>NaN</td>\n",
       "      <td>NaN</td>\n",
       "      <td>NaN</td>\n",
       "    </tr>\n",
       "    <tr>\n",
       "      <th>190498</th>\n",
       "      <td>2007-04-28 00:22:00</td>\n",
       "      <td>NaN</td>\n",
       "      <td>NaN</td>\n",
       "      <td>NaN</td>\n",
       "      <td>NaN</td>\n",
       "      <td>NaN</td>\n",
       "      <td>NaN</td>\n",
       "      <td>NaN</td>\n",
       "    </tr>\n",
       "    <tr>\n",
       "      <th>190499</th>\n",
       "      <td>2007-04-28 00:23:00</td>\n",
       "      <td>NaN</td>\n",
       "      <td>NaN</td>\n",
       "      <td>NaN</td>\n",
       "      <td>NaN</td>\n",
       "      <td>NaN</td>\n",
       "      <td>NaN</td>\n",
       "      <td>NaN</td>\n",
       "    </tr>\n",
       "    <tr>\n",
       "      <th>190500</th>\n",
       "      <td>2007-04-28 00:24:00</td>\n",
       "      <td>NaN</td>\n",
       "      <td>NaN</td>\n",
       "      <td>NaN</td>\n",
       "      <td>NaN</td>\n",
       "      <td>NaN</td>\n",
       "      <td>NaN</td>\n",
       "      <td>NaN</td>\n",
       "    </tr>\n",
       "    <tr>\n",
       "      <th>190501</th>\n",
       "      <td>2007-04-28 00:25:00</td>\n",
       "      <td>NaN</td>\n",
       "      <td>NaN</td>\n",
       "      <td>NaN</td>\n",
       "      <td>NaN</td>\n",
       "      <td>NaN</td>\n",
       "      <td>NaN</td>\n",
       "      <td>NaN</td>\n",
       "    </tr>\n",
       "    <tr>\n",
       "      <th>190502</th>\n",
       "      <td>2007-04-28 00:26:00</td>\n",
       "      <td>NaN</td>\n",
       "      <td>NaN</td>\n",
       "      <td>NaN</td>\n",
       "      <td>NaN</td>\n",
       "      <td>NaN</td>\n",
       "      <td>NaN</td>\n",
       "      <td>NaN</td>\n",
       "    </tr>\n",
       "    <tr>\n",
       "      <th>190503</th>\n",
       "      <td>2007-04-28 00:27:00</td>\n",
       "      <td>NaN</td>\n",
       "      <td>NaN</td>\n",
       "      <td>NaN</td>\n",
       "      <td>NaN</td>\n",
       "      <td>NaN</td>\n",
       "      <td>NaN</td>\n",
       "      <td>NaN</td>\n",
       "    </tr>\n",
       "    <tr>\n",
       "      <th>190504</th>\n",
       "      <td>2007-04-28 00:28:00</td>\n",
       "      <td>NaN</td>\n",
       "      <td>NaN</td>\n",
       "      <td>NaN</td>\n",
       "      <td>NaN</td>\n",
       "      <td>NaN</td>\n",
       "      <td>NaN</td>\n",
       "      <td>NaN</td>\n",
       "    </tr>\n",
       "    <tr>\n",
       "      <th>190505</th>\n",
       "      <td>2007-04-28 00:29:00</td>\n",
       "      <td>NaN</td>\n",
       "      <td>NaN</td>\n",
       "      <td>NaN</td>\n",
       "      <td>NaN</td>\n",
       "      <td>NaN</td>\n",
       "      <td>NaN</td>\n",
       "      <td>NaN</td>\n",
       "    </tr>\n",
       "    <tr>\n",
       "      <th>190506</th>\n",
       "      <td>2007-04-28 00:30:00</td>\n",
       "      <td>NaN</td>\n",
       "      <td>NaN</td>\n",
       "      <td>NaN</td>\n",
       "      <td>NaN</td>\n",
       "      <td>NaN</td>\n",
       "      <td>NaN</td>\n",
       "      <td>NaN</td>\n",
       "    </tr>\n",
       "    <tr>\n",
       "      <th>190507</th>\n",
       "      <td>2007-04-28 00:31:00</td>\n",
       "      <td>NaN</td>\n",
       "      <td>NaN</td>\n",
       "      <td>NaN</td>\n",
       "      <td>NaN</td>\n",
       "      <td>NaN</td>\n",
       "      <td>NaN</td>\n",
       "      <td>NaN</td>\n",
       "    </tr>\n",
       "  </tbody>\n",
       "</table>\n",
       "</div>"
      ],
      "text/plain": [
       "                        dt  Global_active_power  Global_reactive_power  \\\n",
       "6839   2006-12-21 11:23:00                  NaN                    NaN   \n",
       "6840   2006-12-21 11:24:00                  NaN                    NaN   \n",
       "19724  2006-12-30 10:08:00                  NaN                    NaN   \n",
       "19725  2006-12-30 10:09:00                  NaN                    NaN   \n",
       "41832  2007-01-14 18:36:00                  NaN                    NaN   \n",
       "61909  2007-01-28 17:13:00                  NaN                    NaN   \n",
       "98254  2007-02-22 22:58:00                  NaN                    NaN   \n",
       "98255  2007-02-22 22:59:00                  NaN                    NaN   \n",
       "142588 2007-03-25 17:52:00                  NaN                    NaN   \n",
       "190497 2007-04-28 00:21:00                  NaN                    NaN   \n",
       "190498 2007-04-28 00:22:00                  NaN                    NaN   \n",
       "190499 2007-04-28 00:23:00                  NaN                    NaN   \n",
       "190500 2007-04-28 00:24:00                  NaN                    NaN   \n",
       "190501 2007-04-28 00:25:00                  NaN                    NaN   \n",
       "190502 2007-04-28 00:26:00                  NaN                    NaN   \n",
       "190503 2007-04-28 00:27:00                  NaN                    NaN   \n",
       "190504 2007-04-28 00:28:00                  NaN                    NaN   \n",
       "190505 2007-04-28 00:29:00                  NaN                    NaN   \n",
       "190506 2007-04-28 00:30:00                  NaN                    NaN   \n",
       "190507 2007-04-28 00:31:00                  NaN                    NaN   \n",
       "\n",
       "        Voltage  Global_intensity  Sub_metering_1  Sub_metering_2  \\\n",
       "6839        NaN               NaN             NaN             NaN   \n",
       "6840        NaN               NaN             NaN             NaN   \n",
       "19724       NaN               NaN             NaN             NaN   \n",
       "19725       NaN               NaN             NaN             NaN   \n",
       "41832       NaN               NaN             NaN             NaN   \n",
       "61909       NaN               NaN             NaN             NaN   \n",
       "98254       NaN               NaN             NaN             NaN   \n",
       "98255       NaN               NaN             NaN             NaN   \n",
       "142588      NaN               NaN             NaN             NaN   \n",
       "190497      NaN               NaN             NaN             NaN   \n",
       "190498      NaN               NaN             NaN             NaN   \n",
       "190499      NaN               NaN             NaN             NaN   \n",
       "190500      NaN               NaN             NaN             NaN   \n",
       "190501      NaN               NaN             NaN             NaN   \n",
       "190502      NaN               NaN             NaN             NaN   \n",
       "190503      NaN               NaN             NaN             NaN   \n",
       "190504      NaN               NaN             NaN             NaN   \n",
       "190505      NaN               NaN             NaN             NaN   \n",
       "190506      NaN               NaN             NaN             NaN   \n",
       "190507      NaN               NaN             NaN             NaN   \n",
       "\n",
       "        Sub_metering_3  \n",
       "6839               NaN  \n",
       "6840               NaN  \n",
       "19724              NaN  \n",
       "19725              NaN  \n",
       "41832              NaN  \n",
       "61909              NaN  \n",
       "98254              NaN  \n",
       "98255              NaN  \n",
       "142588             NaN  \n",
       "190497             NaN  \n",
       "190498             NaN  \n",
       "190499             NaN  \n",
       "190500             NaN  \n",
       "190501             NaN  \n",
       "190502             NaN  \n",
       "190503             NaN  \n",
       "190504             NaN  \n",
       "190505             NaN  \n",
       "190506             NaN  \n",
       "190507             NaN  "
      ]
     },
     "execution_count": 12,
     "metadata": {},
     "output_type": "execute_result"
    }
   ],
   "source": [
    "df[df['Global_active_power'].isnull()].head(20)"
   ]
  },
  {
   "cell_type": "markdown",
   "metadata": {},
   "source": [
    "Now, I'll need to decide what to do with the null data. One possibility is to drop the data, but then I would have gaps in the timeseries. Another possibility is to fill in the data with the average. But I don't think that's the best option since maybe the data just before the null values were at a low or at a high. Then filling it with the average would cause an upward/downward spike. I think the best option would be to backfill or forward fill the data. I think this makes the most sense since the data is in chronological order. I am going to choose ffill, which will propogate the last valid observation forward."
   ]
  },
  {
   "cell_type": "code",
   "execution_count": 13,
   "metadata": {},
   "outputs": [
    {
     "data": {
      "text/plain": [
       "dt                       0\n",
       "Global_active_power      0\n",
       "Global_reactive_power    0\n",
       "Voltage                  0\n",
       "Global_intensity         0\n",
       "Sub_metering_1           0\n",
       "Sub_metering_2           0\n",
       "Sub_metering_3           0\n",
       "dtype: int64"
      ]
     },
     "execution_count": 13,
     "metadata": {},
     "output_type": "execute_result"
    }
   ],
   "source": [
    "df = df.fillna(method='ffill', axis=0)\n",
    "df.isnull().sum()"
   ]
  },
  {
   "cell_type": "code",
   "execution_count": 14,
   "metadata": {},
   "outputs": [],
   "source": [
    "df_backup = df"
   ]
  },
  {
   "cell_type": "markdown",
   "metadata": {},
   "source": [
    "This project will just deal with hourly predictions, so I'll start by sub-sampling the data from 1 minute intervals to 1h"
   ]
  },
  {
   "cell_type": "code",
   "execution_count": 15,
   "metadata": {},
   "outputs": [],
   "source": [
    "# slice [start:stop:step], starting from index 36 take every 60th record\n",
    "df = df[36::60]\n",
    "date_time = df.pop('dt')"
   ]
  },
  {
   "cell_type": "code",
   "execution_count": 16,
   "metadata": {},
   "outputs": [
    {
     "data": {
      "text/plain": [
       "36        2006-12-16 18:00:00\n",
       "96        2006-12-16 19:00:00\n",
       "156       2006-12-16 20:00:00\n",
       "216       2006-12-16 21:00:00\n",
       "276       2006-12-16 22:00:00\n",
       "                  ...        \n",
       "2075016   2010-11-26 17:00:00\n",
       "2075076   2010-11-26 18:00:00\n",
       "2075136   2010-11-26 19:00:00\n",
       "2075196   2010-11-26 20:00:00\n",
       "2075256   2010-11-26 21:00:00\n",
       "Name: dt, Length: 34588, dtype: datetime64[ns]"
      ]
     },
     "execution_count": 16,
     "metadata": {},
     "output_type": "execute_result"
    }
   ],
   "source": [
    "date_time"
   ]
  },
  {
   "cell_type": "markdown",
   "metadata": {},
   "source": [
    "Here are the first few rows of data:"
   ]
  },
  {
   "cell_type": "code",
   "execution_count": 17,
   "metadata": {},
   "outputs": [
    {
     "data": {
      "text/html": [
       "<div>\n",
       "<style scoped>\n",
       "    .dataframe tbody tr th:only-of-type {\n",
       "        vertical-align: middle;\n",
       "    }\n",
       "\n",
       "    .dataframe tbody tr th {\n",
       "        vertical-align: top;\n",
       "    }\n",
       "\n",
       "    .dataframe thead th {\n",
       "        text-align: right;\n",
       "    }\n",
       "</style>\n",
       "<table border=\"1\" class=\"dataframe\">\n",
       "  <thead>\n",
       "    <tr style=\"text-align: right;\">\n",
       "      <th></th>\n",
       "      <th>Global_active_power</th>\n",
       "      <th>Global_reactive_power</th>\n",
       "      <th>Voltage</th>\n",
       "      <th>Global_intensity</th>\n",
       "      <th>Sub_metering_1</th>\n",
       "      <th>Sub_metering_2</th>\n",
       "      <th>Sub_metering_3</th>\n",
       "    </tr>\n",
       "  </thead>\n",
       "  <tbody>\n",
       "    <tr>\n",
       "      <th>36</th>\n",
       "      <td>2.790</td>\n",
       "      <td>0.180</td>\n",
       "      <td>237.52</td>\n",
       "      <td>11.8</td>\n",
       "      <td>0.0</td>\n",
       "      <td>0.0</td>\n",
       "      <td>18.0</td>\n",
       "    </tr>\n",
       "    <tr>\n",
       "      <th>96</th>\n",
       "      <td>4.070</td>\n",
       "      <td>0.088</td>\n",
       "      <td>231.99</td>\n",
       "      <td>17.4</td>\n",
       "      <td>0.0</td>\n",
       "      <td>1.0</td>\n",
       "      <td>17.0</td>\n",
       "    </tr>\n",
       "    <tr>\n",
       "      <th>156</th>\n",
       "      <td>3.206</td>\n",
       "      <td>0.078</td>\n",
       "      <td>232.43</td>\n",
       "      <td>13.8</td>\n",
       "      <td>0.0</td>\n",
       "      <td>0.0</td>\n",
       "      <td>16.0</td>\n",
       "    </tr>\n",
       "    <tr>\n",
       "      <th>216</th>\n",
       "      <td>3.314</td>\n",
       "      <td>0.072</td>\n",
       "      <td>236.76</td>\n",
       "      <td>14.0</td>\n",
       "      <td>0.0</td>\n",
       "      <td>0.0</td>\n",
       "      <td>17.0</td>\n",
       "    </tr>\n",
       "    <tr>\n",
       "      <th>276</th>\n",
       "      <td>3.464</td>\n",
       "      <td>0.170</td>\n",
       "      <td>236.03</td>\n",
       "      <td>14.6</td>\n",
       "      <td>0.0</td>\n",
       "      <td>1.0</td>\n",
       "      <td>17.0</td>\n",
       "    </tr>\n",
       "  </tbody>\n",
       "</table>\n",
       "</div>"
      ],
      "text/plain": [
       "     Global_active_power  Global_reactive_power  Voltage  Global_intensity  \\\n",
       "36                 2.790                  0.180   237.52              11.8   \n",
       "96                 4.070                  0.088   231.99              17.4   \n",
       "156                3.206                  0.078   232.43              13.8   \n",
       "216                3.314                  0.072   236.76              14.0   \n",
       "276                3.464                  0.170   236.03              14.6   \n",
       "\n",
       "     Sub_metering_1  Sub_metering_2  Sub_metering_3  \n",
       "36              0.0             0.0            18.0  \n",
       "96              0.0             1.0            17.0  \n",
       "156             0.0             0.0            16.0  \n",
       "216             0.0             0.0            17.0  \n",
       "276             0.0             1.0            17.0  "
      ]
     },
     "execution_count": 17,
     "metadata": {},
     "output_type": "execute_result"
    }
   ],
   "source": [
    "df.head()"
   ]
  },
  {
   "cell_type": "code",
   "execution_count": 18,
   "metadata": {},
   "outputs": [
    {
     "data": {
      "image/png": "[encoded data removed]",
      "text/plain": [
       "<Figure size 432x288 with 3 Axes>"
      ]
     },
     "metadata": {
      "needs_background": "light"
     },
     "output_type": "display_data"
    },
    {
     "data": {
      "image/png": "[encoded data removed]",
      "text/plain": [
       "<Figure size 432x288 with 3 Axes>"
      ]
     },
     "metadata": {
      "needs_background": "light"
     },
     "output_type": "display_data"
    }
   ],
   "source": [
    "plot_cols = ['Global_active_power','Voltage','Global_intensity']\n",
    "plot_features = df[plot_cols]\n",
    "plot_features.index = date_time\n",
    "_ = plot_features.plot(subplots=True)\n",
    "\n",
    "plot_features = df[plot_cols][:480]\n",
    "plot_features.index = date_time[:480]\n",
    "_ = plot_features.plot(subplots=True)"
   ]
  },
  {
   "cell_type": "markdown",
   "metadata": {},
   "source": [
    "## Inspect data"
   ]
  },
  {
   "cell_type": "code",
   "execution_count": 19,
   "metadata": {},
   "outputs": [
    {
     "data": {
      "text/html": [
       "<div>\n",
       "<style scoped>\n",
       "    .dataframe tbody tr th:only-of-type {\n",
       "        vertical-align: middle;\n",
       "    }\n",
       "\n",
       "    .dataframe tbody tr th {\n",
       "        vertical-align: top;\n",
       "    }\n",
       "\n",
       "    .dataframe thead th {\n",
       "        text-align: right;\n",
       "    }\n",
       "</style>\n",
       "<table border=\"1\" class=\"dataframe\">\n",
       "  <thead>\n",
       "    <tr style=\"text-align: right;\">\n",
       "      <th></th>\n",
       "      <th>count</th>\n",
       "      <th>mean</th>\n",
       "      <th>std</th>\n",
       "      <th>min</th>\n",
       "      <th>25%</th>\n",
       "      <th>50%</th>\n",
       "      <th>75%</th>\n",
       "      <th>max</th>\n",
       "    </tr>\n",
       "  </thead>\n",
       "  <tbody>\n",
       "    <tr>\n",
       "      <th>Global_active_power</th>\n",
       "      <td>34588.0</td>\n",
       "      <td>1.092031</td>\n",
       "      <td>1.058231</td>\n",
       "      <td>0.078</td>\n",
       "      <td>0.308</td>\n",
       "      <td>0.602</td>\n",
       "      <td>1.532</td>\n",
       "      <td>8.758</td>\n",
       "    </tr>\n",
       "    <tr>\n",
       "      <th>Global_reactive_power</th>\n",
       "      <td>34588.0</td>\n",
       "      <td>0.123175</td>\n",
       "      <td>0.113308</td>\n",
       "      <td>0.000</td>\n",
       "      <td>0.048</td>\n",
       "      <td>0.100</td>\n",
       "      <td>0.194</td>\n",
       "      <td>1.218</td>\n",
       "    </tr>\n",
       "    <tr>\n",
       "      <th>Voltage</th>\n",
       "      <td>34588.0</td>\n",
       "      <td>240.720039</td>\n",
       "      <td>3.233447</td>\n",
       "      <td>225.540</td>\n",
       "      <td>238.870</td>\n",
       "      <td>240.890</td>\n",
       "      <td>242.790</td>\n",
       "      <td>253.170</td>\n",
       "    </tr>\n",
       "    <tr>\n",
       "      <th>Global_intensity</th>\n",
       "      <td>34588.0</td>\n",
       "      <td>4.631178</td>\n",
       "      <td>4.451695</td>\n",
       "      <td>0.200</td>\n",
       "      <td>1.400</td>\n",
       "      <td>2.600</td>\n",
       "      <td>6.400</td>\n",
       "      <td>37.600</td>\n",
       "    </tr>\n",
       "    <tr>\n",
       "      <th>Sub_metering_1</th>\n",
       "      <td>34588.0</td>\n",
       "      <td>1.096999</td>\n",
       "      <td>6.078537</td>\n",
       "      <td>0.000</td>\n",
       "      <td>0.000</td>\n",
       "      <td>0.000</td>\n",
       "      <td>0.000</td>\n",
       "      <td>80.000</td>\n",
       "    </tr>\n",
       "    <tr>\n",
       "      <th>Sub_metering_2</th>\n",
       "      <td>34588.0</td>\n",
       "      <td>1.314155</td>\n",
       "      <td>5.883268</td>\n",
       "      <td>0.000</td>\n",
       "      <td>0.000</td>\n",
       "      <td>0.000</td>\n",
       "      <td>1.000</td>\n",
       "      <td>79.000</td>\n",
       "    </tr>\n",
       "    <tr>\n",
       "      <th>Sub_metering_3</th>\n",
       "      <td>34588.0</td>\n",
       "      <td>6.463687</td>\n",
       "      <td>8.444149</td>\n",
       "      <td>0.000</td>\n",
       "      <td>0.000</td>\n",
       "      <td>1.000</td>\n",
       "      <td>17.000</td>\n",
       "      <td>31.000</td>\n",
       "    </tr>\n",
       "  </tbody>\n",
       "</table>\n",
       "</div>"
      ],
      "text/plain": [
       "                         count        mean       std      min      25%  \\\n",
       "Global_active_power    34588.0    1.092031  1.058231    0.078    0.308   \n",
       "Global_reactive_power  34588.0    0.123175  0.113308    0.000    0.048   \n",
       "Voltage                34588.0  240.720039  3.233447  225.540  238.870   \n",
       "Global_intensity       34588.0    4.631178  4.451695    0.200    1.400   \n",
       "Sub_metering_1         34588.0    1.096999  6.078537    0.000    0.000   \n",
       "Sub_metering_2         34588.0    1.314155  5.883268    0.000    0.000   \n",
       "Sub_metering_3         34588.0    6.463687  8.444149    0.000    0.000   \n",
       "\n",
       "                           50%      75%      max  \n",
       "Global_active_power      0.602    1.532    8.758  \n",
       "Global_reactive_power    0.100    0.194    1.218  \n",
       "Voltage                240.890  242.790  253.170  \n",
       "Global_intensity         2.600    6.400   37.600  \n",
       "Sub_metering_1           0.000    0.000   80.000  \n",
       "Sub_metering_2           0.000    1.000   79.000  \n",
       "Sub_metering_3           1.000   17.000   31.000  "
      ]
     },
     "execution_count": 19,
     "metadata": {},
     "output_type": "execute_result"
    }
   ],
   "source": [
    "df.describe().transpose()"
   ]
  },
  {
   "cell_type": "markdown",
   "metadata": {},
   "source": [
    "By inspecting the data, I can see that Sub_metering_1 and Sub_metering_2 are primarily full of 0's, although when approaching the max, they increase up to 79 and 80 respectively.\n",
    "\n",
    "Also, I can see that the Global_active_power, Global_reactive_power, Voltage, and Global_intensity all have a relatively small standard deviation with 4.45 being the maximum standard deviation.\n",
    "\n",
    "After inspecting the data, nothing stands out as needing to be cleaned up aside from filling the null values which was done previously. I was also checking to see if any of the columns had negative values, since that would have stood out as being out of the ordinary."
   ]
  },
  {
   "cell_type": "markdown",
   "metadata": {},
   "source": [
    "# Feature Engineering\n",
    "The Date Time column is very useful, but not in this string form. I'll start by converting it to seconds"
   ]
  },
  {
   "cell_type": "code",
   "execution_count": 21,
   "metadata": {},
   "outputs": [],
   "source": [
    "timestamp_s = date_time.map(dt.datetime.timestamp)"
   ]
  },
  {
   "cell_type": "markdown",
   "metadata": {},
   "source": [
    "Since this is power consumption data, it may have some type of periodicity. I'm unsure of which frequencies are important. But I can figure this out by using an fft."
   ]
  },
  {
   "cell_type": "code",
   "execution_count": null,
   "metadata": {},
   "outputs": [],
   "source": [
    "fft = tf.signal.rfft(df['Global_active_power'])\n",
    "f_per_dataset = np.arange(0, len(fft))\n"
   ]
  },
  {
   "cell_type": "code",
   "execution_count": null,
   "metadata": {},
   "outputs": [],
   "source": [
    "n_samples_h = len(df['Global_active_power'])\n",
    "hours_per_year = 24*365.2524\n",
    "years_per_dataset = n_samples_h/(hours_per_year)"
   ]
  },
  {
   "cell_type": "code",
   "execution_count": null,
   "metadata": {},
   "outputs": [],
   "source": [
    "f_per_year = f_per_dataset/years_per_dataset\n",
    "plt.step(f_per_year, np.abs(fft))\n",
    "plt.xscale('log')\n",
    "plt.ylim(0, 400000)\n",
    "plt.xlim([0.1, max(plt.xlim())])\n",
    "plt.xticks([1, 365.2524], labels=['1/Year','1/day'])\n",
    "_ = plt.xlabel('Frequency (log scale)')"
   ]
  }
 ],
 "metadata": {
  "kernelspec": {
   "display_name": "Python 3",
   "language": "python",
   "name": "python3"
  },
  "language_info": {
   "codemirror_mode": {
    "name": "ipython",
    "version": 3
   },
   "file_extension": ".py",
   "mimetype": "text/x-python",
   "name": "python",
   "nbconvert_exporter": "python",
   "pygments_lexer": "ipython3",
   "version": "3.8.3"
  }
 },
 "nbformat": 4,
 "nbformat_minor": 4
}
